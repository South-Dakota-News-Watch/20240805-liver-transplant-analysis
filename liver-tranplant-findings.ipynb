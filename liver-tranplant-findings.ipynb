{
 "cells": [
  {
   "cell_type": "markdown",
   "id": "0f70eb4c-de62-40a9-a7dc-23b2902a8c0b",
   "metadata": {},
   "source": [
    "# 20240805 - Liver transplant analysis\n",
    "\n",
    "This notebook has the code necessary to reproduce the findings in the South Dakota News Watch article, [\"TK,\"](TK) published Aug. 5, 2024.\n",
    "\n",
    "This article includes findings from analyzing portions of the [UNOS STAR file](https://optn.transplant.hrsa.gov/data/view-data-reports/request-data/). See [README.md](README.md) for more details on the data.\n",
    "\n",
    "- [Setup and summary stats](#Setup-and-summary-stats)\n",
    "    - [Read in main liver data file](#Read-in-main-liver-data-file)\n",
    "    - [Read in liver file code lookup](#Read-in-liver-file-code-lookup)\n",
    "    - [Read in STAR file data dictionary](#Read-in-STAR-file-data-dictionary)\n",
    "    - [Break out age groups](#Break-out-age-groups)\n",
    "    - [Break out alcohol diagnoses](#Break-out-alcohol-diagnoses)\n",
    "    - [Break out South Dakota data](#Break-out-South-Dakota-data)\n",
    "- [Findings](#Findings)\n",
    "  - [\"Almost two of every three liver donor candidates ultimately received a transplant.\"](#Almost-two-of-every-three-liver-donor-candidates-ultimately-received-a-transplant.)\n",
    "  - [\"Most liver transplant patients aren't this young. ... Two thirds \\[of candidates in their 30s\\] received a transplant.\"](#Most-liver-transplant-patients-aren't-this-young.)\n",
    "  - [Sentence TK about 30-year-olds with alcohol diagnoses](#Sentence-TK-about-30-year-olds-with-alcohol-diagnoses)\n",
    "  - [Sentence TK about the changing rate of alcohol diagnoses](#Sentence-TK-about-the-changing-rate-of-alcohol-diagnoses)"
   ]
  },
  {
   "cell_type": "markdown",
   "id": "70057959-3064-4ac9-b81e-6ddf7e496d20",
   "metadata": {},
   "source": [
    "## Setup and summary stats"
   ]
  },
  {
   "cell_type": "code",
   "execution_count": 1,
   "id": "4267aac2-51a2-42de-ae1a-b06ac79d4384",
   "metadata": {},
   "outputs": [],
   "source": [
    "import math\n",
    "from datetime import date\n",
    "\n",
    "from utils import get_df\n",
    "\n",
    "import pandas as pd"
   ]
  },
  {
   "cell_type": "code",
   "execution_count": 2,
   "id": "34d4be50-b6e8-45a8-9cef-869c8e49d866",
   "metadata": {},
   "outputs": [],
   "source": [
    "pd.set_option('display.max_columns', None)"
   ]
  },
  {
   "cell_type": "markdown",
   "id": "f982ae75-fd75-411f-95a0-fd34c5963427",
   "metadata": {},
   "source": [
    "#### Read in main liver data file"
   ]
  },
  {
   "cell_type": "code",
   "execution_count": 3,
   "id": "5ab39479-33ef-412e-93d7-c8e71bd8772f",
   "metadata": {},
   "outputs": [],
   "source": [
    "# load the LIVER_DATA.DAT file\n",
    "df = get_df(\n",
    "    'data/liver/LIVER_DATA.DAT',\n",
    "    parse_dates=[\n",
    "        'PX_STAT_DATE',\n",
    "        'INIT_DATE'\n",
    "    ]\n",
    ")"
   ]
  },
  {
   "cell_type": "code",
   "execution_count": 4,
   "id": "d65014f9-6ba5-4c17-a405-e80b1de7b9b3",
   "metadata": {},
   "outputs": [
    {
     "data": {
      "text/plain": [
       "1167"
      ]
     },
     "execution_count": 4,
     "metadata": {},
     "output_type": "execute_result"
    }
   ],
   "source": [
    "# how many records are missing a list year?\n",
    "len(df[df['LISTYR'].isnull()])"
   ]
  },
  {
   "cell_type": "code",
   "execution_count": 5,
   "id": "acc6a80f-943b-49b8-870a-ab5111654646",
   "metadata": {},
   "outputs": [],
   "source": [
    "# We're only going to use data on or after the first full year of listing data: 1988\n",
    "df = df[df['LISTYR'] > 1987]"
   ]
  },
  {
   "cell_type": "code",
   "execution_count": 6,
   "id": "b7607a3f-1723-47c7-a7be-f3de4b36beba",
   "metadata": {},
   "outputs": [
    {
     "name": "stdout",
     "output_type": "stream",
     "text": [
      "367,012 events\n"
     ]
    }
   ],
   "source": [
    "# how many records total?\n",
    "total_records = len(df)\n",
    "print(f'{total_records:,} events')"
   ]
  },
  {
   "cell_type": "code",
   "execution_count": 7,
   "id": "6ec8a47d-207e-4b9e-b7f2-5732930d5669",
   "metadata": {},
   "outputs": [
    {
     "name": "stdout",
     "output_type": "stream",
     "text": [
      "0 nulls\n"
     ]
    }
   ],
   "source": [
    "# any nulls in patient ID column?\n",
    "print(len(df[df['PT_CODE'].isnull()]), 'nulls')"
   ]
  },
  {
   "cell_type": "code",
   "execution_count": 8,
   "id": "f11d00de-9762-49a0-bbbb-a8048baef6ca",
   "metadata": {},
   "outputs": [
    {
     "name": "stdout",
     "output_type": "stream",
     "text": [
      "Earliest event: January 1988\n",
      "Most recent event: June 2024\n"
     ]
    }
   ],
   "source": [
    "# what are max and min dates (formatted)?\n",
    "date_first = df['INIT_DATE'].min().strftime(\"%B %Y\")\n",
    "date_last = df['INIT_DATE'].max().strftime(\"%B %Y\")\n",
    "\n",
    "# there are a few records past June 30, 2024, but we're going to\n",
    "# stick with the documentation and cap the data at the end of 6/24\n",
    "date_last = 'June 2024'\n",
    "\n",
    "print(f'Earliest event: {date_first}')\n",
    "print(f'Most recent event: {date_last}')"
   ]
  },
  {
   "cell_type": "code",
   "execution_count": 9,
   "id": "004e5ba7-065f-47f2-ab5e-9155b5276b53",
   "metadata": {},
   "outputs": [
    {
     "name": "stdout",
     "output_type": "stream",
     "text": [
      "318,437 candidates\n"
     ]
    }
   ],
   "source": [
    "# how many unique candidates?\n",
    "# get the count of unique patient codes\n",
    "total_candidates_unique_count = df['PT_CODE'].nunique()\n",
    "print(f'{total_candidates_unique_count:,} candidates')"
   ]
  },
  {
   "cell_type": "code",
   "execution_count": 10,
   "id": "a14315df-6177-45ed-a0ed-ef10b84b9aed",
   "metadata": {},
   "outputs": [
    {
     "name": "stdout",
     "output_type": "stream",
     "text": [
      "213,641 donors\n"
     ]
    }
   ],
   "source": [
    "# how many unique donors?\n",
    "# get the count of unique donor IDs\n",
    "total_donors_unique_count = df['DONOR_ID'].nunique()\n",
    "print(f'{total_donors_unique_count:,} donors')"
   ]
  },
  {
   "cell_type": "code",
   "execution_count": 11,
   "id": "07d689d9-0ac1-4867-b90b-c19bb121b470",
   "metadata": {},
   "outputs": [],
   "source": [
    "# how many candidates got a transplant? for this,\n",
    "# we want to make sure that every record associated with a patient\n",
    "# shows whether they have (at some point) gotten a transplant\n",
    "\n",
    "# step one: get a unique list of all PT_CODE values that are\n",
    "# associated with a transplant record -- i.e., the TRR_ID_CODE\n",
    "# value is not null\n",
    "pt_codes_w_tx = df[df['TRR_ID_CODE'].notnull()]['PT_CODE'].unique()\n",
    "\n",
    "# set a convenience flag on _every_ event record showing whether this\n",
    "# candidate has ever been associated with a tx record\n",
    "df['has_tx'] = df['PT_CODE'].isin(pt_codes_w_tx)"
   ]
  },
  {
   "cell_type": "markdown",
   "id": "06da9281-b277-45fa-9e43-55d36827ea3a",
   "metadata": {},
   "source": [
    "### Almost two of every three liver donor candidates ultimately received a transplant.\n",
    "\n",
    "For all liver donor candidates in this time period, the transplant rate is 63.43%."
   ]
  },
  {
   "cell_type": "code",
   "execution_count": 12,
   "id": "855f636c-5959-4a95-aab6-6f0e810f98ec",
   "metadata": {},
   "outputs": [
    {
     "name": "stdout",
     "output_type": "stream",
     "text": [
      "In the U.S., from January 1988 to June 2024, 201,973 of 318,437 liver transplant candidates received a transplant (63.43%).\n"
     ]
    }
   ],
   "source": [
    "df_cand_w_tx = df[df['has_tx']]\n",
    "total_candidates_w_tx = df_cand_w_tx['PT_CODE'].nunique()\n",
    "\n",
    "# and get the % of total\n",
    "tx_pct = total_candidates_w_tx / total_candidates_unique_count\n",
    "\n",
    "print(f'In the U.S., from {date_first} to {date_last}, {total_candidates_w_tx:,} of {total_candidates_unique_count:,} liver transplant candidates received a transplant ({tx_pct:.2%}).')"
   ]
  },
  {
   "cell_type": "code",
   "execution_count": 13,
   "id": "e1185c74-99e2-4999-a128-820c154b4aa5",
   "metadata": {
    "scrolled": true
   },
   "outputs": [
    {
     "data": {
      "text/plain": [
       "True"
      ]
     },
     "execution_count": 13,
     "metadata": {},
     "output_type": "execute_result"
    }
   ],
   "source": [
    "# checks out\n",
    "df[df['has_tx']]['PT_CODE'].nunique() == df[df['TRR_ID_CODE'].notnull()]['PT_CODE'].nunique()"
   ]
  },
  {
   "cell_type": "markdown",
   "id": "8ef82beb-6758-4cdb-b055-6960ef5a2c55",
   "metadata": {},
   "source": [
    "#### Read in liver file code lookup\n",
    "\n",
    "We can use this to look up pieces of encoded data."
   ]
  },
  {
   "cell_type": "code",
   "execution_count": 14,
   "id": "cf973c4c-005f-4564-8dcf-9f34e90aa7eb",
   "metadata": {},
   "outputs": [],
   "source": [
    "df_code_dict = get_df(\n",
    "    'docs/CODE DICTIONARY - FORMATS 202406/Liver/LIVER_FORMATS_FLATFILE.DAT',\n",
    "    encoding='cp1252'\n",
    ")"
   ]
  },
  {
   "cell_type": "code",
   "execution_count": 15,
   "id": "4a27c8a7-d3ee-48e4-949c-08170b4517cc",
   "metadata": {
    "scrolled": true
   },
   "outputs": [
    {
     "data": {
      "text/html": [
       "<div>\n",
       "<style scoped>\n",
       "    .dataframe tbody tr th:only-of-type {\n",
       "        vertical-align: middle;\n",
       "    }\n",
       "\n",
       "    .dataframe tbody tr th {\n",
       "        vertical-align: top;\n",
       "    }\n",
       "\n",
       "    .dataframe thead th {\n",
       "        text-align: right;\n",
       "    }\n",
       "</style>\n",
       "<table border=\"1\" class=\"dataframe\">\n",
       "  <thead>\n",
       "    <tr style=\"text-align: right;\">\n",
       "      <th></th>\n",
       "      <th>LABEL</th>\n",
       "      <th>FMTNAME</th>\n",
       "      <th>TYPE</th>\n",
       "      <th>CODE</th>\n",
       "    </tr>\n",
       "  </thead>\n",
       "  <tbody>\n",
       "    <tr>\n",
       "      <th>0</th>\n",
       "      <td>O</td>\n",
       "      <td>ABO</td>\n",
       "      <td>C</td>\n",
       "      <td>1</td>\n",
       "    </tr>\n",
       "    <tr>\n",
       "      <th>1</th>\n",
       "      <td>A</td>\n",
       "      <td>ABO</td>\n",
       "      <td>C</td>\n",
       "      <td>2</td>\n",
       "    </tr>\n",
       "    <tr>\n",
       "      <th>2</th>\n",
       "      <td>B</td>\n",
       "      <td>ABO</td>\n",
       "      <td>C</td>\n",
       "      <td>3</td>\n",
       "    </tr>\n",
       "    <tr>\n",
       "      <th>3</th>\n",
       "      <td>AB</td>\n",
       "      <td>ABO</td>\n",
       "      <td>C</td>\n",
       "      <td>4</td>\n",
       "    </tr>\n",
       "    <tr>\n",
       "      <th>4</th>\n",
       "      <td>A1</td>\n",
       "      <td>ABO</td>\n",
       "      <td>C</td>\n",
       "      <td>5</td>\n",
       "    </tr>\n",
       "  </tbody>\n",
       "</table>\n",
       "</div>"
      ],
      "text/plain": [
       "  LABEL FMTNAME TYPE CODE\n",
       "0     O     ABO    C    1\n",
       "1     A     ABO    C    2\n",
       "2     B     ABO    C    3\n",
       "3    AB     ABO    C    4\n",
       "4    A1     ABO    C    5"
      ]
     },
     "execution_count": 15,
     "metadata": {},
     "output_type": "execute_result"
    }
   ],
   "source": [
    "df_code_dict.head()"
   ]
  },
  {
   "cell_type": "markdown",
   "id": "da3a8c71-0f0a-43c4-9449-dee9c636fee5",
   "metadata": {},
   "source": [
    "#### Read in STAR file data dictionary\n",
    "\n",
    "Mainly to check the variable start/end dates."
   ]
  },
  {
   "cell_type": "code",
   "execution_count": 16,
   "id": "5b525c05-4ceb-43d7-991f-c39ff45e2607",
   "metadata": {},
   "outputs": [],
   "source": [
    "df_star_data_dict = pd.read_excel(\n",
    "    'docs/STAR User Guide/STAR File Data Dictionary.xlsx',\n",
    "    sheet_name='LIVER_DATA',\n",
    "    skiprows=1\n",
    ")"
   ]
  },
  {
   "cell_type": "code",
   "execution_count": 17,
   "id": "8e4cfe19-69b4-42fb-8dfd-454287fdb1f5",
   "metadata": {},
   "outputs": [
    {
     "data": {
      "text/html": [
       "<div>\n",
       "<style scoped>\n",
       "    .dataframe tbody tr th:only-of-type {\n",
       "        vertical-align: middle;\n",
       "    }\n",
       "\n",
       "    .dataframe tbody tr th {\n",
       "        vertical-align: top;\n",
       "    }\n",
       "\n",
       "    .dataframe thead th {\n",
       "        text-align: right;\n",
       "    }\n",
       "</style>\n",
       "<table border=\"1\" class=\"dataframe\">\n",
       "  <thead>\n",
       "    <tr style=\"text-align: right;\">\n",
       "      <th></th>\n",
       "      <th>VARIABLE NAME</th>\n",
       "      <th>DESCRIPTION</th>\n",
       "      <th>FORM</th>\n",
       "      <th>VAR START DATE</th>\n",
       "      <th>VAR END DATE</th>\n",
       "      <th>FORM SECTION</th>\n",
       "      <th>DATA TYPE</th>\n",
       "      <th>SAS ANALYSIS FORMAT</th>\n",
       "      <th>COMMENT</th>\n",
       "    </tr>\n",
       "  </thead>\n",
       "  <tbody>\n",
       "    <tr>\n",
       "      <th>0</th>\n",
       "      <td>ABO</td>\n",
       "      <td>RECIPIENT BLOOD GROUP @ REGISTRATION</td>\n",
       "      <td>TCR</td>\n",
       "      <td>1987-10-01</td>\n",
       "      <td>NaT</td>\n",
       "      <td>CLINICAL INFORMATION</td>\n",
       "      <td>CHAR(3)</td>\n",
       "      <td>ABO</td>\n",
       "      <td>NaN</td>\n",
       "    </tr>\n",
       "    <tr>\n",
       "      <th>1</th>\n",
       "      <td>ABO_DON</td>\n",
       "      <td>DONOR BLOOD TYPE</td>\n",
       "      <td>DDR/LDR</td>\n",
       "      <td>1987-10-01</td>\n",
       "      <td>NaT</td>\n",
       "      <td>DONOR INFORMATION</td>\n",
       "      <td>CHAR(3)</td>\n",
       "      <td>ABO</td>\n",
       "      <td>NaN</td>\n",
       "    </tr>\n",
       "    <tr>\n",
       "      <th>2</th>\n",
       "      <td>ABO_MAT</td>\n",
       "      <td>DONOR-RECIPIENT ABO MATCH LEVEL</td>\n",
       "      <td>CALCULATED</td>\n",
       "      <td>NaT</td>\n",
       "      <td>NaT</td>\n",
       "      <td>NaN</td>\n",
       "      <td>CHAR(1)</td>\n",
       "      <td>ABOMAT</td>\n",
       "      <td>NaN</td>\n",
       "    </tr>\n",
       "    <tr>\n",
       "      <th>3</th>\n",
       "      <td>ACADEMIC_LEVEL_TCR</td>\n",
       "      <td>ACADEMIC ACTIVITY LEVEL AT LISTING</td>\n",
       "      <td>TCR</td>\n",
       "      <td>2004-06-30</td>\n",
       "      <td>NaT</td>\n",
       "      <td>CANDIDATE INFORMATION</td>\n",
       "      <td>NUM</td>\n",
       "      <td>ACADLVLKI</td>\n",
       "      <td>NaN</td>\n",
       "    </tr>\n",
       "    <tr>\n",
       "      <th>4</th>\n",
       "      <td>ACADEMIC_LEVEL_TRR</td>\n",
       "      <td>ACADEMIC ACTIVITY LEVEL AT TRANSPLANT</td>\n",
       "      <td>TRR</td>\n",
       "      <td>2004-06-30</td>\n",
       "      <td>NaT</td>\n",
       "      <td>PATIENT STATUS</td>\n",
       "      <td>NUM</td>\n",
       "      <td>ACADLVLKI</td>\n",
       "      <td>NaN</td>\n",
       "    </tr>\n",
       "  </tbody>\n",
       "</table>\n",
       "</div>"
      ],
      "text/plain": [
       "        VARIABLE NAME                            DESCRIPTION        FORM  \\\n",
       "0                 ABO   RECIPIENT BLOOD GROUP @ REGISTRATION         TCR   \n",
       "1             ABO_DON                       DONOR BLOOD TYPE     DDR/LDR   \n",
       "2             ABO_MAT        DONOR-RECIPIENT ABO MATCH LEVEL  CALCULATED   \n",
       "3  ACADEMIC_LEVEL_TCR     ACADEMIC ACTIVITY LEVEL AT LISTING         TCR   \n",
       "4  ACADEMIC_LEVEL_TRR  ACADEMIC ACTIVITY LEVEL AT TRANSPLANT         TRR   \n",
       "\n",
       "  VAR START DATE VAR END DATE           FORM SECTION DATA TYPE  \\\n",
       "0     1987-10-01          NaT   CLINICAL INFORMATION   CHAR(3)   \n",
       "1     1987-10-01          NaT      DONOR INFORMATION   CHAR(3)   \n",
       "2            NaT          NaT                    NaN   CHAR(1)   \n",
       "3     2004-06-30          NaT  CANDIDATE INFORMATION       NUM   \n",
       "4     2004-06-30          NaT         PATIENT STATUS       NUM   \n",
       "\n",
       "  SAS ANALYSIS FORMAT COMMENT  \n",
       "0                 ABO     NaN  \n",
       "1                 ABO     NaN  \n",
       "2              ABOMAT     NaN  \n",
       "3           ACADLVLKI     NaN  \n",
       "4           ACADLVLKI     NaN  "
      ]
     },
     "execution_count": 17,
     "metadata": {},
     "output_type": "execute_result"
    }
   ],
   "source": [
    "df_star_data_dict.head()"
   ]
  },
  {
   "cell_type": "markdown",
   "id": "23699703-98a9-4640-871f-3f108aef5083",
   "metadata": {},
   "source": [
    "#### Break out age groups\n",
    "\n",
    "Part of our analysis involves looking at candidates in age buckets: twenties, thirties, etc."
   ]
  },
  {
   "cell_type": "code",
   "execution_count": 18,
   "id": "aae59625-900e-4b5a-8104-148970dbabf2",
   "metadata": {},
   "outputs": [
    {
     "name": "stdout",
     "output_type": "stream",
     "text": [
      "[0, 10, 20, 30, 40, 50, 60, 70, 80, 90]\n",
      "['0-9', '10-19', '20-29', '30-39', '40-49', '50-59', '60-69', '70-79', '80-89']\n"
     ]
    }
   ],
   "source": [
    "# we want to bin by decades -- 10-year intervals\n",
    "interval = 10\n",
    "\n",
    "# get the highest candidate age, rounded up to the nearest 10\n",
    "age_max = math.ceil(df['INIT_AGE'].max() / float(interval)) * interval\n",
    "\n",
    "# get age groups as a range\n",
    "age_bins = list(range(0, age_max + interval, interval))\n",
    "\n",
    "# and add labels\n",
    "labels = [f'{x}-{x + interval - 1}' for x in age_bins[:-1]]\n",
    "\n",
    "print(age_bins)\n",
    "print(labels)"
   ]
  },
  {
   "cell_type": "code",
   "execution_count": 19,
   "id": "454c22f0-76ca-4725-831b-a47e6088167d",
   "metadata": {},
   "outputs": [],
   "source": [
    "df['candidate_age_decade'] = pd.cut(\n",
    "    df['INIT_AGE'],\n",
    "    bins=age_bins,\n",
    "    labels=labels\n",
    ")"
   ]
  },
  {
   "cell_type": "code",
   "execution_count": 20,
   "id": "052995a2-4869-4983-b365-f0b45e1d6e88",
   "metadata": {},
   "outputs": [
    {
     "data": {
      "text/plain": [
       "candidate_age_decade\n",
       "50-59    123855\n",
       "60-69     84147\n",
       "40-49     78088\n",
       "30-39     29824\n",
       "20-29     12724\n",
       "0-9       11999\n",
       "10-19      9576\n",
       "70-79      6799\n",
       "80-89        12\n",
       "Name: count, dtype: int64"
      ]
     },
     "execution_count": 20,
     "metadata": {},
     "output_type": "execute_result"
    }
   ],
   "source": [
    "df['candidate_age_decade'].value_counts()"
   ]
  },
  {
   "cell_type": "markdown",
   "id": "d77e54a3-ac25-44f0-9e55-d855a1f13bd3",
   "metadata": {},
   "source": [
    "#### Break out alcohol diagnoses\n",
    "\n",
    "Candidates who were listed with a primary or secondary diagnosis associated with an alcohol-related disease will have one of these codes present in the `DGN_TCR`, `DGN2_TCR` or `DIAG` fields, according to UNOS:\n",
    "- 4215 – Alcoholic Cirrhosis\n",
    "- 4216 – Alcoholic Cirrhosis with Hepatitis C\n",
    "- 4217 – Acute Alcoholic Hepatitis\n",
    "- 4218 – Acute Alcohol-Associated Hepatitis with or without Cirrhosis\n",
    "- 4219 – Alcohol-Associated Cirrhosis without Acute Alcohol-Associated Hepatitis\n",
    "\n",
    "Here, we're going to check for the presence of these codes and set a flag on each record."
   ]
  },
  {
   "cell_type": "code",
   "execution_count": 21,
   "id": "dc16aa92-0e69-4f8a-aed4-49bf68e249b3",
   "metadata": {},
   "outputs": [
    {
     "data": {
      "text/html": [
       "<div>\n",
       "<style scoped>\n",
       "    .dataframe tbody tr th:only-of-type {\n",
       "        vertical-align: middle;\n",
       "    }\n",
       "\n",
       "    .dataframe tbody tr th {\n",
       "        vertical-align: top;\n",
       "    }\n",
       "\n",
       "    .dataframe thead th {\n",
       "        text-align: right;\n",
       "    }\n",
       "</style>\n",
       "<table border=\"1\" class=\"dataframe\">\n",
       "  <thead>\n",
       "    <tr style=\"text-align: right;\">\n",
       "      <th></th>\n",
       "      <th>VARIABLE NAME</th>\n",
       "      <th>DESCRIPTION</th>\n",
       "      <th>FORM</th>\n",
       "      <th>VAR START DATE</th>\n",
       "      <th>VAR END DATE</th>\n",
       "      <th>FORM SECTION</th>\n",
       "      <th>DATA TYPE</th>\n",
       "      <th>SAS ANALYSIS FORMAT</th>\n",
       "      <th>COMMENT</th>\n",
       "    </tr>\n",
       "  </thead>\n",
       "  <tbody>\n",
       "    <tr>\n",
       "      <th>87</th>\n",
       "      <td>DGN_TCR</td>\n",
       "      <td>PRIMARY DIAGNOSIS AT TIME OF LISTING</td>\n",
       "      <td>TCR</td>\n",
       "      <td>1994-04-01</td>\n",
       "      <td>NaT</td>\n",
       "      <td>CLINICAL INFORMATION</td>\n",
       "      <td>NUM</td>\n",
       "      <td>ALL_DGN</td>\n",
       "      <td>NaN</td>\n",
       "    </tr>\n",
       "    <tr>\n",
       "      <th>88</th>\n",
       "      <td>DGN2_TCR</td>\n",
       "      <td>SECONDARY DIAGNOSIS AT TIME OF LISTING</td>\n",
       "      <td>TCR</td>\n",
       "      <td>1994-04-01</td>\n",
       "      <td>NaT</td>\n",
       "      <td>CLINICAL INFORMATION</td>\n",
       "      <td>NUM</td>\n",
       "      <td>ALL_DGN</td>\n",
       "      <td>NaN</td>\n",
       "    </tr>\n",
       "    <tr>\n",
       "      <th>92</th>\n",
       "      <td>DIAG</td>\n",
       "      <td>RECIPIENT PRIMARY DIAGNOSIS</td>\n",
       "      <td>TRR&gt;TCR</td>\n",
       "      <td>1987-10-01</td>\n",
       "      <td>NaT</td>\n",
       "      <td>PATIENT STATUS/CLINICAL INFORMATION</td>\n",
       "      <td>NUM</td>\n",
       "      <td>ALL_DGN</td>\n",
       "      <td>Primary diagnosis was not collected on TCR unt...</td>\n",
       "    </tr>\n",
       "  </tbody>\n",
       "</table>\n",
       "</div>"
      ],
      "text/plain": [
       "   VARIABLE NAME                             DESCRIPTION     FORM  \\\n",
       "87       DGN_TCR    PRIMARY DIAGNOSIS AT TIME OF LISTING      TCR   \n",
       "88      DGN2_TCR  SECONDARY DIAGNOSIS AT TIME OF LISTING      TCR   \n",
       "92          DIAG             RECIPIENT PRIMARY DIAGNOSIS  TRR>TCR   \n",
       "\n",
       "   VAR START DATE VAR END DATE                         FORM SECTION DATA TYPE  \\\n",
       "87     1994-04-01          NaT                 CLINICAL INFORMATION       NUM   \n",
       "88     1994-04-01          NaT                 CLINICAL INFORMATION       NUM   \n",
       "92     1987-10-01          NaT  PATIENT STATUS/CLINICAL INFORMATION       NUM   \n",
       "\n",
       "   SAS ANALYSIS FORMAT                                            COMMENT  \n",
       "87             ALL_DGN                                                NaN  \n",
       "88             ALL_DGN                                                NaN  \n",
       "92             ALL_DGN  Primary diagnosis was not collected on TCR unt...  "
      ]
     },
     "execution_count": 21,
     "metadata": {},
     "output_type": "execute_result"
    }
   ],
   "source": [
    "# check the variable start dates for those columns\n",
    "df_star_data_dict[df_star_data_dict['VARIABLE NAME'].isin(['DGN_TCR', 'DGN2_TCR', 'DIAG'])]"
   ]
  },
  {
   "cell_type": "code",
   "execution_count": 25,
   "id": "1b17eaca-8f62-4298-9542-f20f0cfdebcf",
   "metadata": {},
   "outputs": [
    {
     "data": {
      "text/html": [
       "<div>\n",
       "<style scoped>\n",
       "    .dataframe tbody tr th:only-of-type {\n",
       "        vertical-align: middle;\n",
       "    }\n",
       "\n",
       "    .dataframe tbody tr th {\n",
       "        vertical-align: top;\n",
       "    }\n",
       "\n",
       "    .dataframe thead th {\n",
       "        text-align: right;\n",
       "    }\n",
       "</style>\n",
       "<table border=\"1\" class=\"dataframe\">\n",
       "  <thead>\n",
       "    <tr style=\"text-align: right;\">\n",
       "      <th></th>\n",
       "      <th>LABEL</th>\n",
       "      <th>FMTNAME</th>\n",
       "      <th>TYPE</th>\n",
       "      <th>CODE</th>\n",
       "    </tr>\n",
       "  </thead>\n",
       "  <tbody>\n",
       "    <tr>\n",
       "      <th>2582</th>\n",
       "      <td>ALCOHOLIC CIRRHOSIS</td>\n",
       "      <td>LI_DGN</td>\n",
       "      <td>N</td>\n",
       "      <td>4215</td>\n",
       "    </tr>\n",
       "    <tr>\n",
       "      <th>2583</th>\n",
       "      <td>ALCOHOLIC CIRRHOSIS WITH HEPATITIS C</td>\n",
       "      <td>LI_DGN</td>\n",
       "      <td>N</td>\n",
       "      <td>4216</td>\n",
       "    </tr>\n",
       "    <tr>\n",
       "      <th>2584</th>\n",
       "      <td>ACUTE ALCOHOLIC HEPATITIS</td>\n",
       "      <td>LI_DGN</td>\n",
       "      <td>N</td>\n",
       "      <td>4217</td>\n",
       "    </tr>\n",
       "    <tr>\n",
       "      <th>2585</th>\n",
       "      <td>ACUTE ALCOHOL-ASSOCIATED HEPATITIS WITH OR WIT...</td>\n",
       "      <td>LI_DGN</td>\n",
       "      <td>N</td>\n",
       "      <td>4218</td>\n",
       "    </tr>\n",
       "    <tr>\n",
       "      <th>2586</th>\n",
       "      <td>ALCOHOL-ASSOCIATED CIRRHOSIS WITHOUT ACUTE ALC...</td>\n",
       "      <td>LI_DGN</td>\n",
       "      <td>N</td>\n",
       "      <td>4219</td>\n",
       "    </tr>\n",
       "  </tbody>\n",
       "</table>\n",
       "</div>"
      ],
      "text/plain": [
       "                                                  LABEL FMTNAME TYPE  CODE\n",
       "2582                                ALCOHOLIC CIRRHOSIS  LI_DGN    N  4215\n",
       "2583               ALCOHOLIC CIRRHOSIS WITH HEPATITIS C  LI_DGN    N  4216\n",
       "2584                          ACUTE ALCOHOLIC HEPATITIS  LI_DGN    N  4217\n",
       "2585  ACUTE ALCOHOL-ASSOCIATED HEPATITIS WITH OR WIT...  LI_DGN    N  4218\n",
       "2586  ALCOHOL-ASSOCIATED CIRRHOSIS WITHOUT ACUTE ALC...  LI_DGN    N  4219"
      ]
     },
     "execution_count": 25,
     "metadata": {},
     "output_type": "execute_result"
    }
   ],
   "source": [
    "# check - see which code labels include the word 'alcohol'\n",
    "df_code_dict[df_code_dict['LABEL'].fillna('').str.contains('alcohol', case=False)]"
   ]
  },
  {
   "cell_type": "code",
   "execution_count": 26,
   "id": "c7d97dd5-758e-4ec1-8543-48fa8d9d78f9",
   "metadata": {},
   "outputs": [],
   "source": [
    "alcohol_codes = set([int(x) for x in df_code_dict[df_code_dict['LABEL'].fillna('').str.contains('alcohol', case=False)]['CODE']])"
   ]
  },
  {
   "cell_type": "code",
   "execution_count": 27,
   "id": "9985519f-4982-456a-9e4b-29a99642e97b",
   "metadata": {},
   "outputs": [
    {
     "data": {
      "text/plain": [
       "{4215, 4216, 4217, 4218, 4219}"
      ]
     },
     "execution_count": 27,
     "metadata": {},
     "output_type": "execute_result"
    }
   ],
   "source": [
    "alcohol_codes"
   ]
  },
  {
   "cell_type": "code",
   "execution_count": 28,
   "id": "8fdfc7cb-b58b-4e47-9b6a-4dd5c472aaf7",
   "metadata": {},
   "outputs": [],
   "source": [
    "def has_alcohol_diagnosis(row):\n",
    "    ''' function to check a row of liver data to see if any of the alcohol codes are present '''\n",
    "    diag_codes = [\n",
    "        row['DGN_TCR'],\n",
    "        row['DGN2_TCR'],\n",
    "        row['DIAG']\n",
    "    ]\n",
    "\n",
    "    if set(diag_codes).intersection(alcohol_codes):\n",
    "        return True\n",
    "\n",
    "    return False"
   ]
  },
  {
   "cell_type": "code",
   "execution_count": 29,
   "id": "5bf13f65-1b7b-40a9-94e0-d7dbd8a54d24",
   "metadata": {},
   "outputs": [],
   "source": [
    "df['alcohol_diagnosis'] = df.apply(\n",
    "    has_alcohol_diagnosis,\n",
    "    axis=1\n",
    ")"
   ]
  },
  {
   "cell_type": "code",
   "execution_count": 30,
   "id": "bb2b6f68-8fc2-4c84-8f1c-6449116ce040",
   "metadata": {},
   "outputs": [],
   "source": [
    "# to guard against the possibility of a candidate record not reflecting the alcohol diagnostic\n",
    "# code for that candidate, set the 'alcohol_diagnosis' flag on ALL records for candidates who had an\n",
    "# alcohol diagnosis in ANY of their records\n",
    "\n",
    "# (belt and suspenders -- our numbers didn't change after we used this approach)\n",
    "\n",
    "pt_codes_w_alc = df[df['alcohol_diagnosis']]['PT_CODE'].unique()\n",
    "\n",
    "# now set a convenience flag on each event record -- has this patient\n",
    "# ever been associated with an alcohol diagnosis record?\n",
    "df['alcohol_diagnosis'] = df['PT_CODE'].isin(pt_codes_w_alc)"
   ]
  },
  {
   "cell_type": "code",
   "execution_count": 31,
   "id": "17ddbf77-9077-4360-90ae-6579bc2504c5",
   "metadata": {},
   "outputs": [],
   "source": [
    "# how many candidates were listed with an alcohol diagnosis?\n",
    "df_alcohol_diag = df[df['alcohol_diagnosis']]\n",
    "alcohol_cand_total = df_alcohol_diag['PT_CODE'].nunique()"
   ]
  },
  {
   "cell_type": "code",
   "execution_count": 32,
   "id": "7662e8a2-8667-410b-8b9f-f8949061ce13",
   "metadata": {},
   "outputs": [
    {
     "name": "stdout",
     "output_type": "stream",
     "text": [
      "Of 318,437 liver donation candidates across the U.S., 94,434 were listed with a primary or secondary diagnosis of an alcohol-related disease (29.66%).\n"
     ]
    }
   ],
   "source": [
    "alcohol_cand_pct = alcohol_cand_total / total_candidates_unique_count\n",
    "\n",
    "print(f'Of {total_candidates_unique_count:,} liver donation candidates across the U.S., {alcohol_cand_total:,} were listed with a primary or secondary diagnosis of an alcohol-related disease ({alcohol_cand_pct:.2%}).')"
   ]
  },
  {
   "cell_type": "code",
   "execution_count": 33,
   "id": "1ffb2e10-3136-4768-b7c4-89fe2467d282",
   "metadata": {},
   "outputs": [],
   "source": [
    "df_cands_alcohol_got_tx_count = df_alcohol_diag[df_alcohol_diag['has_tx']]['PT_CODE'].nunique()"
   ]
  },
  {
   "cell_type": "code",
   "execution_count": 34,
   "id": "7ce06f3a-ab75-458b-81a0-e45315de3b18",
   "metadata": {},
   "outputs": [
    {
     "name": "stdout",
     "output_type": "stream",
     "text": [
      "Of those 94,434 candidates who were listed with an alcohol diagnosis, 58,448 received a transplant (61.89%).\n"
     ]
    }
   ],
   "source": [
    "df_cands_alcohol_got_tx_pct = df_cands_alcohol_got_tx_count / alcohol_cand_total\n",
    "\n",
    "print(f'Of those {alcohol_cand_total:,} candidates who were listed with an alcohol diagnosis, {df_cands_alcohol_got_tx_count:,} received a transplant ({df_cands_alcohol_got_tx_pct:.2%}).')"
   ]
  },
  {
   "cell_type": "code",
   "execution_count": 47,
   "id": "aa23fc9c-240c-407a-82c8-ac9f58303b8e",
   "metadata": {},
   "outputs": [],
   "source": [
    "# grab a unique list of candidates for use later - get latest record based on\n",
    "# `PX_START_DATE`\n",
    "df_uniq_cands = df.sort_values('PX_STAT_DATE', ascending=False).drop_duplicates(\n",
    "    subset='PT_CODE',\n",
    "    keep='first'\n",
    ")\n",
    "\n",
    "# .. and one for unique donors\n",
    "df_uniq_donors = df.sort_values('PX_STAT_DATE', ascending=False).drop_duplicates(\n",
    "    subset='DONOR_ID',\n",
    "    keep='first'\n",
    ")"
   ]
  },
  {
   "cell_type": "markdown",
   "id": "0638169b-cde9-474e-9852-62b3339098f0",
   "metadata": {},
   "source": [
    "#### Break out South Dakota data\n",
    "\n",
    "We're using the `PERM_STATE` field to filter for S.D. candidates."
   ]
  },
  {
   "cell_type": "code",
   "execution_count": 38,
   "id": "33d91a9c-d61d-4001-806f-b4ac645ec87a",
   "metadata": {},
   "outputs": [
    {
     "name": "stdout",
     "output_type": "stream",
     "text": [
      "4,074 of 318,437 candidates are missing a value for their home state (1.28%).\n"
     ]
    }
   ],
   "source": [
    "# first, see how many records are missing a candidate home state\n",
    "missing_cand_state_count = df[df['PERM_STATE'].isnull()]['PT_CODE'].nunique()\n",
    "missing_cand_state_pct = missing_cand_state_count / total_candidates_unique_count\n",
    "print(f'{missing_cand_state_count:,} of {total_candidates_unique_count:,} candidates are missing a value for their home state ({missing_cand_state_pct:.2%}).')"
   ]
  },
  {
   "cell_type": "code",
   "execution_count": 39,
   "id": "0829d10b-3954-464c-911f-fb45160b9af3",
   "metadata": {},
   "outputs": [
    {
     "name": "stdout",
     "output_type": "stream",
     "text": [
      "776\n"
     ]
    }
   ],
   "source": [
    "# filter to get data on S.D. candidates\n",
    "df_sd = df[df['PERM_STATE'] == 'SD']\n",
    "\n",
    "# how many events, total?\n",
    "print(len(df_sd))"
   ]
  },
  {
   "cell_type": "code",
   "execution_count": 40,
   "id": "048d4cc4-cfd8-4ede-97d1-75428cf6023f",
   "metadata": {},
   "outputs": [
    {
     "name": "stdout",
     "output_type": "stream",
     "text": [
      "685\n"
     ]
    }
   ],
   "source": [
    "# how many S.D. candidates, total?\n",
    "total_candidates_unique_count_sd = df_sd['PT_CODE'].nunique()\n",
    "print(total_candidates_unique_count_sd)"
   ]
  },
  {
   "cell_type": "code",
   "execution_count": 41,
   "id": "ad2d9496-cc2c-482b-9e03-c7c633dc6a33",
   "metadata": {},
   "outputs": [
    {
     "name": "stdout",
     "output_type": "stream",
     "text": [
      "426\n"
     ]
    }
   ],
   "source": [
    "# how many S.D. donors, total?\n",
    "total_donors_unique_count_sd = df_sd['DONOR_ID'].nunique()\n",
    "print(total_donors_unique_count_sd)"
   ]
  },
  {
   "cell_type": "code",
   "execution_count": 42,
   "id": "b3e8c59e-cc14-4374-b92b-157aeb7b4487",
   "metadata": {},
   "outputs": [
    {
     "name": "stdout",
     "output_type": "stream",
     "text": [
      "In South Dakota, from January 1988 to June 2024, 406 of 685 liver transplant candidates received a transplant (59.27%).\n"
     ]
    }
   ],
   "source": [
    "# of the S.D. candidates, who got a liver transplant?\n",
    "total_candidates_w_tx_sd = df_sd[df_sd['has_tx']]['PT_CODE'].nunique()\n",
    "\n",
    "# and get the % of total\n",
    "tx_pct_sd = total_candidates_w_tx_sd / total_candidates_unique_count_sd\n",
    "\n",
    "print(f'In South Dakota, from {date_first} to {date_last}, {total_candidates_w_tx_sd:,} of {total_candidates_unique_count_sd:,} liver transplant candidates received a transplant ({tx_pct_sd:.2%}).')"
   ]
  },
  {
   "cell_type": "markdown",
   "id": "02f211ad-ba83-4d20-aef0-ac339c7fab5b",
   "metadata": {},
   "source": [
    "## Findings"
   ]
  },
  {
   "cell_type": "markdown",
   "id": "da7b5a67-dbf7-4666-8735-437413c08cc2",
   "metadata": {},
   "source": [
    "### Most liver transplant patients aren't this young.\n",
    "\n",
    "### Two-thirds [of candidates in their 30s] received a transplant."
   ]
  },
  {
   "cell_type": "markdown",
   "id": "3256a435-3a53-4662-8d03-630a2410df07",
   "metadata": {},
   "source": [
    "Taylor is 35.\n",
    "- In the U.S. over this time period, 25,148 liver donor candidates were in their 30s when they were listed, of 318,437 total candidates (7.90%). Of those 25,148 candidates in their 30s, 16,557 ultimately got a transplant (65.84%).\n",
    "- Summary stats for \"age at listing\" for candidates and \"donor age\" values across the U.S. in this time period:\n",
    "  - Candidate age mean: 49.79\n",
    "  - Candidate age median: 54.0\n",
    "  - Donor age mean: 37.75\n",
    "  - Donor age median: 38.0"
   ]
  },
  {
   "cell_type": "code",
   "execution_count": 78,
   "id": "be0622c8-0238-4d88-b579-58ee4a67165e",
   "metadata": {},
   "outputs": [
    {
     "data": {
      "text/plain": [
       "0"
      ]
     },
     "execution_count": 78,
     "metadata": {},
     "output_type": "execute_result"
    }
   ],
   "source": [
    "# how many records are missing `INIT_AGE`?\n",
    "len(df[df['INIT_AGE'].isnull()])"
   ]
  },
  {
   "cell_type": "code",
   "execution_count": 79,
   "id": "bc187f55-6ea6-48f4-b01f-cc3a3f4fb0ce",
   "metadata": {},
   "outputs": [
    {
     "data": {
      "text/plain": [
       "151237"
      ]
     },
     "execution_count": 79,
     "metadata": {},
     "output_type": "execute_result"
    }
   ],
   "source": [
    "# how many records are missing `DONOR_AGE`? (because not every record is a donation\n",
    "len(df[df['AGE_DON'].isnull()])"
   ]
  },
  {
   "cell_type": "code",
   "execution_count": 80,
   "id": "e0f6faa7-9ca7-40bf-b110-ee6f427bee59",
   "metadata": {},
   "outputs": [
    {
     "name": "stdout",
     "output_type": "stream",
     "text": [
      "Age range:\n",
      "- Candidates: 0.0 - 86.0\n",
      "- Donors: 0.0 - 98.0\n"
     ]
    }
   ],
   "source": [
    "# max/min for `INIT_AGE` (candidate age at listing)\n",
    "# and `AGE_DON` (donor age)\n",
    "\n",
    "print('Age range:')\n",
    "print('- Candidates:', df['INIT_AGE'].min(), '-', df['INIT_AGE'].max())\n",
    "print('- Donors:', df['AGE_DON'].min(), '-', df['AGE_DON'].max())"
   ]
  },
  {
   "cell_type": "code",
   "execution_count": 81,
   "id": "2b24e77f-e9ce-4724-a481-b90be76bcedb",
   "metadata": {},
   "outputs": [
    {
     "name": "stdout",
     "output_type": "stream",
     "text": [
      "Nationally:\n",
      "  - Candidate age mean: 49.79\n",
      "  - Candidate age median: 54.0\n",
      "  - Donor age mean: 37.75\n",
      "  - Donor age median: 38.0\n"
     ]
    }
   ],
   "source": [
    "# grab mean/median age for candidates and donors\n",
    "age_mean_candidates_us = round(df_uniq_cands['INIT_AGE'].mean(), 2)\n",
    "age_median_candidates_us = round(df_uniq_cands['INIT_AGE'].median(), 2)\n",
    "\n",
    "age_mean_donor_us = round(df_uniq_donors['AGE_DON'].mean(), 2)\n",
    "age_median_donor_us = round(df_uniq_donors['AGE_DON'].median(), 2)\n",
    "\n",
    "age_str = '\\n  - '.join([\n",
    "    f'Candidate age mean: {age_mean_candidates_us}',\n",
    "    f'Candidate age median: {age_median_candidates_us}',\n",
    "    f'Donor age mean: {age_mean_donor_us}',\n",
    "    f'Donor age median: {age_median_donor_us}'\n",
    "])\n",
    "\n",
    "# FINDING\n",
    "print(f'Nationally:\\n  - {age_str}')"
   ]
  },
  {
   "cell_type": "code",
   "execution_count": 82,
   "id": "d3c0d478-5c57-4771-999c-273ec2c0a8f0",
   "metadata": {},
   "outputs": [],
   "source": [
    "# just 30-39 YOs, broken down by whether they got a transplant,\n",
    "df_30s_uniq_cands = df_uniq_cands[df_uniq_cands['candidate_age_decade'] == '30-39']"
   ]
  },
  {
   "cell_type": "code",
   "execution_count": 83,
   "id": "54128d09-2371-4373-b76c-d4943369619e",
   "metadata": {},
   "outputs": [],
   "source": [
    "cand_30s_count = df_30s_uniq_cands['PT_CODE'].nunique()"
   ]
  },
  {
   "cell_type": "code",
   "execution_count": 84,
   "id": "a5b508d4-bf78-417f-9cb8-1e13f7364a96",
   "metadata": {},
   "outputs": [
    {
     "data": {
      "text/plain": [
       "25148"
      ]
     },
     "execution_count": 84,
     "metadata": {},
     "output_type": "execute_result"
    }
   ],
   "source": [
    "cand_30s_count"
   ]
  },
  {
   "cell_type": "code",
   "execution_count": 70,
   "id": "fd226089-512d-4d0e-b732-5819820def31",
   "metadata": {},
   "outputs": [],
   "source": [
    "# vet this #\n",
    "assert(cand_30s_count == len(df_30s_uniq_cands))"
   ]
  },
  {
   "cell_type": "code",
   "execution_count": 73,
   "id": "c81e4c01-0b31-47cf-9301-2a3f06dcb005",
   "metadata": {},
   "outputs": [
    {
     "name": "stdout",
     "output_type": "stream",
     "text": [
      "7.90%\n"
     ]
    }
   ],
   "source": [
    "# what percentage of all candidates do 30-year-olds represent?\n",
    "cand_thirties_overall_pct = cand_30s_count / total_candidates_unique_count\n",
    "print(f'{cand_thirties_overall_pct:.2%}')"
   ]
  },
  {
   "cell_type": "code",
   "execution_count": 74,
   "id": "75be345a-8464-4b3c-8bf3-1cca74789c85",
   "metadata": {},
   "outputs": [],
   "source": [
    "# of the 30s cohort, how many of them got a transplant?\n",
    "df_30s_got_tx = df_30s_uniq_cands[df_30s_uniq_cands['has_tx']]"
   ]
  },
  {
   "cell_type": "code",
   "execution_count": 75,
   "id": "43fc2c19-5052-4af0-9fa5-1e1bff41ea05",
   "metadata": {},
   "outputs": [],
   "source": [
    "df_30s_got_tx_count = df_30s_got_tx['PT_CODE'].nunique()"
   ]
  },
  {
   "cell_type": "code",
   "execution_count": 76,
   "id": "2673a20c-eb88-4f9f-abc2-02a19b2b9e64",
   "metadata": {},
   "outputs": [
    {
     "data": {
      "text/plain": [
       "16557"
      ]
     },
     "execution_count": 76,
     "metadata": {},
     "output_type": "execute_result"
    }
   ],
   "source": [
    "df_30s_got_tx_count"
   ]
  },
  {
   "cell_type": "code",
   "execution_count": 77,
   "id": "d5baf2c0-7172-4b81-b813-fcffb5d1d0ca",
   "metadata": {
    "scrolled": true
   },
   "outputs": [
    {
     "name": "stdout",
     "output_type": "stream",
     "text": [
      "In the U.S. over this time period, 25,148 liver donor candidates were in their 30s when they were listed, of 318,437 total candidates (7.90%). Of those 25,148 candidates in their 30s, 16,557 ultimately got a transplant (65.84%).\n"
     ]
    }
   ],
   "source": [
    "cand_30s_tx_pct = df_30s_got_tx_count / cand_30s_count\n",
    "print(f'In the U.S. over this time period, {cand_30s_count:,} liver donor candidates were in their 30s when they were listed, of {total_candidates_unique_count:,} total candidates ({cand_thirties_overall_pct:.2%}). Of those {cand_30s_count:,} candidates in their 30s, {df_30s_got_tx_count:,} ultimately got a transplant ({cand_30s_tx_pct:.2%}).')"
   ]
  },
  {
   "cell_type": "markdown",
   "id": "6648db99-cbf8-409e-91f5-48d191fe0e96",
   "metadata": {},
   "source": [
    "### Sentence TK about 30-year-olds with alcohol diagnoses\n",
    "\n",
    "Most candidates like Taylor, who was in his 30s when he was listed with an alcohol disease-related diagnosis, received a liver transplant."
   ]
  },
  {
   "cell_type": "code",
   "execution_count": 85,
   "id": "f45ad942-5623-42a0-bdf9-56c167f89f6b",
   "metadata": {},
   "outputs": [
    {
     "name": "stdout",
     "output_type": "stream",
     "text": [
      "Of the 25,148 liver donation candidates who were listed while in their 30s, 9,329 had an alcohol disease-related diagnosis (37.10%). Of those 9,329 candidates in their 30s with an alcohol diagnosis, 6,182 got a donated liver (66.27%). \n"
     ]
    }
   ],
   "source": [
    "df_30s_uniq_cands_w_alc = df_30s_uniq_cands[df_30s_uniq_cands['alcohol_diagnosis']]\n",
    "df_30s_uniq_cands_w_alc_pct = len(df_30s_uniq_cands_w_alc) / cand_30s_count\n",
    "\n",
    "df_30s_uniq_cands_w_alc_w_tx = df_30s_uniq_cands_w_alc[df_30s_uniq_cands_w_alc['has_tx']]\n",
    "\n",
    "t30s_uniq_cands_w_alc_w_tx_pct = len(df_30s_uniq_cands_w_alc_w_tx) / len(df_30s_uniq_cands_w_alc)\n",
    "\n",
    "print(f'Of the {cand_30s_count:,} liver donation candidates who were listed while in their 30s, {len(df_30s_uniq_cands_w_alc):,} had an alcohol disease-related diagnosis ({df_30s_uniq_cands_w_alc_pct:.2%}). Of those {len(df_30s_uniq_cands_w_alc):,} candidates in their 30s with an alcohol diagnosis, {len(df_30s_uniq_cands_w_alc_w_tx):,} got a donated liver ({t30s_uniq_cands_w_alc_w_tx_pct:.2%}). ')\n",
    "\n",
    "\n",
    "# for 30-year-olds with an alcohol diagnosis, how many and what pct of total candidates actually received a transplant?"
   ]
  },
  {
   "cell_type": "markdown",
   "id": "b1a6ba4c-532f-4b11-8bae-6b8822dd3531",
   "metadata": {},
   "source": [
    "### Sentence TK about the changing rate of alcohol diagnoses\n",
    "\n",
    "The share of liver transplant candidates with a primary or secondary diagnosis of an alcohol-related disease has doubled in the past 30 years."
   ]
  },
  {
   "cell_type": "code",
   "execution_count": 87,
   "id": "3fec8515-2f86-4cb9-aa10-ea4d10fb52db",
   "metadata": {},
   "outputs": [],
   "source": [
    "# note: vetted against manually filtered data as well\n",
    "\n",
    "# show unique candidates, LISTYR x alcohol diagnosis\n",
    "df_alc_by_listyr_uniq = pd.pivot_table(\n",
    "    df_uniq_cands[['LISTYR', 'alcohol_diagnosis']],\n",
    "    index='alcohol_diagnosis',\n",
    "    columns='LISTYR',\n",
    "    aggfunc=len\n",
    ")"
   ]
  },
  {
   "cell_type": "code",
   "execution_count": 88,
   "id": "2ac92eab-9a2f-49a4-a83d-d5509b038142",
   "metadata": {},
   "outputs": [
    {
     "data": {
      "text/html": [
       "<div>\n",
       "<style scoped>\n",
       "    .dataframe tbody tr th:only-of-type {\n",
       "        vertical-align: middle;\n",
       "    }\n",
       "\n",
       "    .dataframe tbody tr th {\n",
       "        vertical-align: top;\n",
       "    }\n",
       "\n",
       "    .dataframe thead th {\n",
       "        text-align: right;\n",
       "    }\n",
       "</style>\n",
       "<table border=\"1\" class=\"dataframe\">\n",
       "  <thead>\n",
       "    <tr style=\"text-align: right;\">\n",
       "      <th>LISTYR</th>\n",
       "      <th>1988.0</th>\n",
       "      <th>1989.0</th>\n",
       "      <th>1990.0</th>\n",
       "      <th>1991.0</th>\n",
       "      <th>1992.0</th>\n",
       "      <th>1993.0</th>\n",
       "      <th>1994.0</th>\n",
       "      <th>1995.0</th>\n",
       "      <th>1996.0</th>\n",
       "      <th>1997.0</th>\n",
       "      <th>1998.0</th>\n",
       "      <th>1999.0</th>\n",
       "      <th>2000.0</th>\n",
       "      <th>2001.0</th>\n",
       "      <th>2002.0</th>\n",
       "      <th>2003.0</th>\n",
       "      <th>2004.0</th>\n",
       "      <th>2005.0</th>\n",
       "      <th>2006.0</th>\n",
       "      <th>2007.0</th>\n",
       "      <th>2008.0</th>\n",
       "      <th>2009.0</th>\n",
       "      <th>2010.0</th>\n",
       "      <th>2011.0</th>\n",
       "      <th>2012.0</th>\n",
       "      <th>2013.0</th>\n",
       "      <th>2014.0</th>\n",
       "      <th>2015.0</th>\n",
       "      <th>2016.0</th>\n",
       "      <th>2017.0</th>\n",
       "      <th>2018.0</th>\n",
       "      <th>2019.0</th>\n",
       "      <th>2020.0</th>\n",
       "      <th>2021.0</th>\n",
       "      <th>2022.0</th>\n",
       "      <th>2023.0</th>\n",
       "      <th>2024.0</th>\n",
       "    </tr>\n",
       "    <tr>\n",
       "      <th>alcohol_diagnosis</th>\n",
       "      <th></th>\n",
       "      <th></th>\n",
       "      <th></th>\n",
       "      <th></th>\n",
       "      <th></th>\n",
       "      <th></th>\n",
       "      <th></th>\n",
       "      <th></th>\n",
       "      <th></th>\n",
       "      <th></th>\n",
       "      <th></th>\n",
       "      <th></th>\n",
       "      <th></th>\n",
       "      <th></th>\n",
       "      <th></th>\n",
       "      <th></th>\n",
       "      <th></th>\n",
       "      <th></th>\n",
       "      <th></th>\n",
       "      <th></th>\n",
       "      <th></th>\n",
       "      <th></th>\n",
       "      <th></th>\n",
       "      <th></th>\n",
       "      <th></th>\n",
       "      <th></th>\n",
       "      <th></th>\n",
       "      <th></th>\n",
       "      <th></th>\n",
       "      <th></th>\n",
       "      <th></th>\n",
       "      <th></th>\n",
       "      <th></th>\n",
       "      <th></th>\n",
       "      <th></th>\n",
       "      <th></th>\n",
       "      <th></th>\n",
       "    </tr>\n",
       "  </thead>\n",
       "  <tbody>\n",
       "    <tr>\n",
       "      <th>False</th>\n",
       "      <td>1548</td>\n",
       "      <td>2016</td>\n",
       "      <td>2506</td>\n",
       "      <td>2924</td>\n",
       "      <td>3240</td>\n",
       "      <td>3623</td>\n",
       "      <td>3766</td>\n",
       "      <td>4330</td>\n",
       "      <td>4750</td>\n",
       "      <td>5163</td>\n",
       "      <td>5563</td>\n",
       "      <td>6315</td>\n",
       "      <td>6377</td>\n",
       "      <td>6513</td>\n",
       "      <td>5839</td>\n",
       "      <td>6416</td>\n",
       "      <td>6646</td>\n",
       "      <td>6776</td>\n",
       "      <td>6832</td>\n",
       "      <td>7149</td>\n",
       "      <td>7143</td>\n",
       "      <td>7441</td>\n",
       "      <td>7808</td>\n",
       "      <td>7652</td>\n",
       "      <td>7473</td>\n",
       "      <td>7804</td>\n",
       "      <td>7739</td>\n",
       "      <td>7616</td>\n",
       "      <td>7888</td>\n",
       "      <td>7856</td>\n",
       "      <td>7919</td>\n",
       "      <td>7728</td>\n",
       "      <td>7184</td>\n",
       "      <td>7256</td>\n",
       "      <td>7122</td>\n",
       "      <td>7580</td>\n",
       "      <td>4502</td>\n",
       "    </tr>\n",
       "    <tr>\n",
       "      <th>True</th>\n",
       "      <td>126</td>\n",
       "      <td>270</td>\n",
       "      <td>464</td>\n",
       "      <td>519</td>\n",
       "      <td>620</td>\n",
       "      <td>751</td>\n",
       "      <td>1215</td>\n",
       "      <td>1638</td>\n",
       "      <td>1877</td>\n",
       "      <td>1896</td>\n",
       "      <td>2267</td>\n",
       "      <td>2404</td>\n",
       "      <td>2421</td>\n",
       "      <td>2313</td>\n",
       "      <td>1958</td>\n",
       "      <td>2088</td>\n",
       "      <td>2344</td>\n",
       "      <td>2468</td>\n",
       "      <td>2550</td>\n",
       "      <td>2359</td>\n",
       "      <td>2364</td>\n",
       "      <td>2281</td>\n",
       "      <td>2508</td>\n",
       "      <td>2594</td>\n",
       "      <td>2646</td>\n",
       "      <td>2725</td>\n",
       "      <td>2902</td>\n",
       "      <td>3128</td>\n",
       "      <td>3605</td>\n",
       "      <td>3819</td>\n",
       "      <td>4072</td>\n",
       "      <td>4501</td>\n",
       "      <td>4799</td>\n",
       "      <td>5558</td>\n",
       "      <td>5561</td>\n",
       "      <td>6141</td>\n",
       "      <td>2682</td>\n",
       "    </tr>\n",
       "  </tbody>\n",
       "</table>\n",
       "</div>"
      ],
      "text/plain": [
       "LISTYR             1988.0  1989.0  1990.0  1991.0  1992.0  1993.0  1994.0  \\\n",
       "alcohol_diagnosis                                                           \n",
       "False                1548    2016    2506    2924    3240    3623    3766   \n",
       "True                  126     270     464     519     620     751    1215   \n",
       "\n",
       "LISTYR             1995.0  1996.0  1997.0  1998.0  1999.0  2000.0  2001.0  \\\n",
       "alcohol_diagnosis                                                           \n",
       "False                4330    4750    5163    5563    6315    6377    6513   \n",
       "True                 1638    1877    1896    2267    2404    2421    2313   \n",
       "\n",
       "LISTYR             2002.0  2003.0  2004.0  2005.0  2006.0  2007.0  2008.0  \\\n",
       "alcohol_diagnosis                                                           \n",
       "False                5839    6416    6646    6776    6832    7149    7143   \n",
       "True                 1958    2088    2344    2468    2550    2359    2364   \n",
       "\n",
       "LISTYR             2009.0  2010.0  2011.0  2012.0  2013.0  2014.0  2015.0  \\\n",
       "alcohol_diagnosis                                                           \n",
       "False                7441    7808    7652    7473    7804    7739    7616   \n",
       "True                 2281    2508    2594    2646    2725    2902    3128   \n",
       "\n",
       "LISTYR             2016.0  2017.0  2018.0  2019.0  2020.0  2021.0  2022.0  \\\n",
       "alcohol_diagnosis                                                           \n",
       "False                7888    7856    7919    7728    7184    7256    7122   \n",
       "True                 3605    3819    4072    4501    4799    5558    5561   \n",
       "\n",
       "LISTYR             2023.0  2024.0  \n",
       "alcohol_diagnosis                  \n",
       "False                7580    4502  \n",
       "True                 6141    2682  "
      ]
     },
     "execution_count": 88,
     "metadata": {},
     "output_type": "execute_result"
    }
   ],
   "source": [
    "df_alc_by_listyr_uniq"
   ]
  },
  {
   "cell_type": "code",
   "execution_count": 89,
   "id": "126daca7-b160-4498-8ab1-c8d04a490124",
   "metadata": {
    "scrolled": true
   },
   "outputs": [
    {
     "data": {
      "text/html": [
       "<div>\n",
       "<style scoped>\n",
       "    .dataframe tbody tr th:only-of-type {\n",
       "        vertical-align: middle;\n",
       "    }\n",
       "\n",
       "    .dataframe tbody tr th {\n",
       "        vertical-align: top;\n",
       "    }\n",
       "\n",
       "    .dataframe thead th {\n",
       "        text-align: right;\n",
       "    }\n",
       "</style>\n",
       "<table border=\"1\" class=\"dataframe\">\n",
       "  <thead>\n",
       "    <tr style=\"text-align: right;\">\n",
       "      <th></th>\n",
       "      <th>LISTYR</th>\n",
       "      <th>alcohol_diag_no</th>\n",
       "      <th>alcohol_diag_yes</th>\n",
       "    </tr>\n",
       "  </thead>\n",
       "  <tbody>\n",
       "    <tr>\n",
       "      <th>0</th>\n",
       "      <td>1988.0</td>\n",
       "      <td>1548</td>\n",
       "      <td>126</td>\n",
       "    </tr>\n",
       "    <tr>\n",
       "      <th>1</th>\n",
       "      <td>1989.0</td>\n",
       "      <td>2016</td>\n",
       "      <td>270</td>\n",
       "    </tr>\n",
       "    <tr>\n",
       "      <th>2</th>\n",
       "      <td>1990.0</td>\n",
       "      <td>2506</td>\n",
       "      <td>464</td>\n",
       "    </tr>\n",
       "    <tr>\n",
       "      <th>3</th>\n",
       "      <td>1991.0</td>\n",
       "      <td>2924</td>\n",
       "      <td>519</td>\n",
       "    </tr>\n",
       "    <tr>\n",
       "      <th>4</th>\n",
       "      <td>1992.0</td>\n",
       "      <td>3240</td>\n",
       "      <td>620</td>\n",
       "    </tr>\n",
       "    <tr>\n",
       "      <th>5</th>\n",
       "      <td>1993.0</td>\n",
       "      <td>3623</td>\n",
       "      <td>751</td>\n",
       "    </tr>\n",
       "    <tr>\n",
       "      <th>6</th>\n",
       "      <td>1994.0</td>\n",
       "      <td>3766</td>\n",
       "      <td>1215</td>\n",
       "    </tr>\n",
       "    <tr>\n",
       "      <th>7</th>\n",
       "      <td>1995.0</td>\n",
       "      <td>4330</td>\n",
       "      <td>1638</td>\n",
       "    </tr>\n",
       "    <tr>\n",
       "      <th>8</th>\n",
       "      <td>1996.0</td>\n",
       "      <td>4750</td>\n",
       "      <td>1877</td>\n",
       "    </tr>\n",
       "    <tr>\n",
       "      <th>9</th>\n",
       "      <td>1997.0</td>\n",
       "      <td>5163</td>\n",
       "      <td>1896</td>\n",
       "    </tr>\n",
       "    <tr>\n",
       "      <th>10</th>\n",
       "      <td>1998.0</td>\n",
       "      <td>5563</td>\n",
       "      <td>2267</td>\n",
       "    </tr>\n",
       "    <tr>\n",
       "      <th>11</th>\n",
       "      <td>1999.0</td>\n",
       "      <td>6315</td>\n",
       "      <td>2404</td>\n",
       "    </tr>\n",
       "    <tr>\n",
       "      <th>12</th>\n",
       "      <td>2000.0</td>\n",
       "      <td>6377</td>\n",
       "      <td>2421</td>\n",
       "    </tr>\n",
       "    <tr>\n",
       "      <th>13</th>\n",
       "      <td>2001.0</td>\n",
       "      <td>6513</td>\n",
       "      <td>2313</td>\n",
       "    </tr>\n",
       "    <tr>\n",
       "      <th>14</th>\n",
       "      <td>2002.0</td>\n",
       "      <td>5839</td>\n",
       "      <td>1958</td>\n",
       "    </tr>\n",
       "    <tr>\n",
       "      <th>15</th>\n",
       "      <td>2003.0</td>\n",
       "      <td>6416</td>\n",
       "      <td>2088</td>\n",
       "    </tr>\n",
       "    <tr>\n",
       "      <th>16</th>\n",
       "      <td>2004.0</td>\n",
       "      <td>6646</td>\n",
       "      <td>2344</td>\n",
       "    </tr>\n",
       "    <tr>\n",
       "      <th>17</th>\n",
       "      <td>2005.0</td>\n",
       "      <td>6776</td>\n",
       "      <td>2468</td>\n",
       "    </tr>\n",
       "    <tr>\n",
       "      <th>18</th>\n",
       "      <td>2006.0</td>\n",
       "      <td>6832</td>\n",
       "      <td>2550</td>\n",
       "    </tr>\n",
       "    <tr>\n",
       "      <th>19</th>\n",
       "      <td>2007.0</td>\n",
       "      <td>7149</td>\n",
       "      <td>2359</td>\n",
       "    </tr>\n",
       "    <tr>\n",
       "      <th>20</th>\n",
       "      <td>2008.0</td>\n",
       "      <td>7143</td>\n",
       "      <td>2364</td>\n",
       "    </tr>\n",
       "    <tr>\n",
       "      <th>21</th>\n",
       "      <td>2009.0</td>\n",
       "      <td>7441</td>\n",
       "      <td>2281</td>\n",
       "    </tr>\n",
       "    <tr>\n",
       "      <th>22</th>\n",
       "      <td>2010.0</td>\n",
       "      <td>7808</td>\n",
       "      <td>2508</td>\n",
       "    </tr>\n",
       "    <tr>\n",
       "      <th>23</th>\n",
       "      <td>2011.0</td>\n",
       "      <td>7652</td>\n",
       "      <td>2594</td>\n",
       "    </tr>\n",
       "    <tr>\n",
       "      <th>24</th>\n",
       "      <td>2012.0</td>\n",
       "      <td>7473</td>\n",
       "      <td>2646</td>\n",
       "    </tr>\n",
       "    <tr>\n",
       "      <th>25</th>\n",
       "      <td>2013.0</td>\n",
       "      <td>7804</td>\n",
       "      <td>2725</td>\n",
       "    </tr>\n",
       "    <tr>\n",
       "      <th>26</th>\n",
       "      <td>2014.0</td>\n",
       "      <td>7739</td>\n",
       "      <td>2902</td>\n",
       "    </tr>\n",
       "    <tr>\n",
       "      <th>27</th>\n",
       "      <td>2015.0</td>\n",
       "      <td>7616</td>\n",
       "      <td>3128</td>\n",
       "    </tr>\n",
       "    <tr>\n",
       "      <th>28</th>\n",
       "      <td>2016.0</td>\n",
       "      <td>7888</td>\n",
       "      <td>3605</td>\n",
       "    </tr>\n",
       "    <tr>\n",
       "      <th>29</th>\n",
       "      <td>2017.0</td>\n",
       "      <td>7856</td>\n",
       "      <td>3819</td>\n",
       "    </tr>\n",
       "    <tr>\n",
       "      <th>30</th>\n",
       "      <td>2018.0</td>\n",
       "      <td>7919</td>\n",
       "      <td>4072</td>\n",
       "    </tr>\n",
       "    <tr>\n",
       "      <th>31</th>\n",
       "      <td>2019.0</td>\n",
       "      <td>7728</td>\n",
       "      <td>4501</td>\n",
       "    </tr>\n",
       "    <tr>\n",
       "      <th>32</th>\n",
       "      <td>2020.0</td>\n",
       "      <td>7184</td>\n",
       "      <td>4799</td>\n",
       "    </tr>\n",
       "    <tr>\n",
       "      <th>33</th>\n",
       "      <td>2021.0</td>\n",
       "      <td>7256</td>\n",
       "      <td>5558</td>\n",
       "    </tr>\n",
       "    <tr>\n",
       "      <th>34</th>\n",
       "      <td>2022.0</td>\n",
       "      <td>7122</td>\n",
       "      <td>5561</td>\n",
       "    </tr>\n",
       "    <tr>\n",
       "      <th>35</th>\n",
       "      <td>2023.0</td>\n",
       "      <td>7580</td>\n",
       "      <td>6141</td>\n",
       "    </tr>\n",
       "    <tr>\n",
       "      <th>36</th>\n",
       "      <td>2024.0</td>\n",
       "      <td>4502</td>\n",
       "      <td>2682</td>\n",
       "    </tr>\n",
       "  </tbody>\n",
       "</table>\n",
       "</div>"
      ],
      "text/plain": [
       "    LISTYR  alcohol_diag_no  alcohol_diag_yes\n",
       "0   1988.0             1548               126\n",
       "1   1989.0             2016               270\n",
       "2   1990.0             2506               464\n",
       "3   1991.0             2924               519\n",
       "4   1992.0             3240               620\n",
       "5   1993.0             3623               751\n",
       "6   1994.0             3766              1215\n",
       "7   1995.0             4330              1638\n",
       "8   1996.0             4750              1877\n",
       "9   1997.0             5163              1896\n",
       "10  1998.0             5563              2267\n",
       "11  1999.0             6315              2404\n",
       "12  2000.0             6377              2421\n",
       "13  2001.0             6513              2313\n",
       "14  2002.0             5839              1958\n",
       "15  2003.0             6416              2088\n",
       "16  2004.0             6646              2344\n",
       "17  2005.0             6776              2468\n",
       "18  2006.0             6832              2550\n",
       "19  2007.0             7149              2359\n",
       "20  2008.0             7143              2364\n",
       "21  2009.0             7441              2281\n",
       "22  2010.0             7808              2508\n",
       "23  2011.0             7652              2594\n",
       "24  2012.0             7473              2646\n",
       "25  2013.0             7804              2725\n",
       "26  2014.0             7739              2902\n",
       "27  2015.0             7616              3128\n",
       "28  2016.0             7888              3605\n",
       "29  2017.0             7856              3819\n",
       "30  2018.0             7919              4072\n",
       "31  2019.0             7728              4501\n",
       "32  2020.0             7184              4799\n",
       "33  2021.0             7256              5558\n",
       "34  2022.0             7122              5561\n",
       "35  2023.0             7580              6141\n",
       "36  2024.0             4502              2682"
      ]
     },
     "execution_count": 89,
     "metadata": {},
     "output_type": "execute_result"
    }
   ],
   "source": [
    "df_alc_by_listyr = df_alc_by_listyr_uniq.T.reset_index()\n",
    "df_alc_by_listyr.columns = ['LISTYR', 'alcohol_diag_no', 'alcohol_diag_yes']\n",
    "\n",
    "df_alc_by_listyr"
   ]
  },
  {
   "cell_type": "code",
   "execution_count": 90,
   "id": "19d22809-9819-4a7a-bbb4-5d47412b6b72",
   "metadata": {},
   "outputs": [],
   "source": [
    "df_alc_by_listyr['alcohol_diag_pct'] = (df_alc_by_listyr['alcohol_diag_yes'] / (df_alc_by_listyr['alcohol_diag_yes'] + df_alc_by_listyr['alcohol_diag_no'])) * 100"
   ]
  },
  {
   "cell_type": "code",
   "execution_count": 91,
   "id": "d20a7b48-aa62-4779-a91c-a54f3d621891",
   "metadata": {
    "scrolled": true
   },
   "outputs": [
    {
     "data": {
      "text/html": [
       "<div>\n",
       "<style scoped>\n",
       "    .dataframe tbody tr th:only-of-type {\n",
       "        vertical-align: middle;\n",
       "    }\n",
       "\n",
       "    .dataframe tbody tr th {\n",
       "        vertical-align: top;\n",
       "    }\n",
       "\n",
       "    .dataframe thead th {\n",
       "        text-align: right;\n",
       "    }\n",
       "</style>\n",
       "<table border=\"1\" class=\"dataframe\">\n",
       "  <thead>\n",
       "    <tr style=\"text-align: right;\">\n",
       "      <th></th>\n",
       "      <th>LISTYR</th>\n",
       "      <th>alcohol_diag_no</th>\n",
       "      <th>alcohol_diag_yes</th>\n",
       "      <th>alcohol_diag_pct</th>\n",
       "    </tr>\n",
       "  </thead>\n",
       "  <tbody>\n",
       "    <tr>\n",
       "      <th>0</th>\n",
       "      <td>1988.0</td>\n",
       "      <td>1548</td>\n",
       "      <td>126</td>\n",
       "      <td>7.526882</td>\n",
       "    </tr>\n",
       "    <tr>\n",
       "      <th>1</th>\n",
       "      <td>1989.0</td>\n",
       "      <td>2016</td>\n",
       "      <td>270</td>\n",
       "      <td>11.811024</td>\n",
       "    </tr>\n",
       "    <tr>\n",
       "      <th>2</th>\n",
       "      <td>1990.0</td>\n",
       "      <td>2506</td>\n",
       "      <td>464</td>\n",
       "      <td>15.622896</td>\n",
       "    </tr>\n",
       "    <tr>\n",
       "      <th>3</th>\n",
       "      <td>1991.0</td>\n",
       "      <td>2924</td>\n",
       "      <td>519</td>\n",
       "      <td>15.074063</td>\n",
       "    </tr>\n",
       "    <tr>\n",
       "      <th>4</th>\n",
       "      <td>1992.0</td>\n",
       "      <td>3240</td>\n",
       "      <td>620</td>\n",
       "      <td>16.062176</td>\n",
       "    </tr>\n",
       "    <tr>\n",
       "      <th>5</th>\n",
       "      <td>1993.0</td>\n",
       "      <td>3623</td>\n",
       "      <td>751</td>\n",
       "      <td>17.169639</td>\n",
       "    </tr>\n",
       "    <tr>\n",
       "      <th>6</th>\n",
       "      <td>1994.0</td>\n",
       "      <td>3766</td>\n",
       "      <td>1215</td>\n",
       "      <td>24.392692</td>\n",
       "    </tr>\n",
       "    <tr>\n",
       "      <th>7</th>\n",
       "      <td>1995.0</td>\n",
       "      <td>4330</td>\n",
       "      <td>1638</td>\n",
       "      <td>27.446381</td>\n",
       "    </tr>\n",
       "    <tr>\n",
       "      <th>8</th>\n",
       "      <td>1996.0</td>\n",
       "      <td>4750</td>\n",
       "      <td>1877</td>\n",
       "      <td>28.323525</td>\n",
       "    </tr>\n",
       "    <tr>\n",
       "      <th>9</th>\n",
       "      <td>1997.0</td>\n",
       "      <td>5163</td>\n",
       "      <td>1896</td>\n",
       "      <td>26.859329</td>\n",
       "    </tr>\n",
       "    <tr>\n",
       "      <th>10</th>\n",
       "      <td>1998.0</td>\n",
       "      <td>5563</td>\n",
       "      <td>2267</td>\n",
       "      <td>28.952746</td>\n",
       "    </tr>\n",
       "    <tr>\n",
       "      <th>11</th>\n",
       "      <td>1999.0</td>\n",
       "      <td>6315</td>\n",
       "      <td>2404</td>\n",
       "      <td>27.571969</td>\n",
       "    </tr>\n",
       "    <tr>\n",
       "      <th>12</th>\n",
       "      <td>2000.0</td>\n",
       "      <td>6377</td>\n",
       "      <td>2421</td>\n",
       "      <td>27.517618</td>\n",
       "    </tr>\n",
       "    <tr>\n",
       "      <th>13</th>\n",
       "      <td>2001.0</td>\n",
       "      <td>6513</td>\n",
       "      <td>2313</td>\n",
       "      <td>26.206662</td>\n",
       "    </tr>\n",
       "    <tr>\n",
       "      <th>14</th>\n",
       "      <td>2002.0</td>\n",
       "      <td>5839</td>\n",
       "      <td>1958</td>\n",
       "      <td>25.112223</td>\n",
       "    </tr>\n",
       "    <tr>\n",
       "      <th>15</th>\n",
       "      <td>2003.0</td>\n",
       "      <td>6416</td>\n",
       "      <td>2088</td>\n",
       "      <td>24.553151</td>\n",
       "    </tr>\n",
       "    <tr>\n",
       "      <th>16</th>\n",
       "      <td>2004.0</td>\n",
       "      <td>6646</td>\n",
       "      <td>2344</td>\n",
       "      <td>26.073415</td>\n",
       "    </tr>\n",
       "    <tr>\n",
       "      <th>17</th>\n",
       "      <td>2005.0</td>\n",
       "      <td>6776</td>\n",
       "      <td>2468</td>\n",
       "      <td>26.698399</td>\n",
       "    </tr>\n",
       "    <tr>\n",
       "      <th>18</th>\n",
       "      <td>2006.0</td>\n",
       "      <td>6832</td>\n",
       "      <td>2550</td>\n",
       "      <td>27.179706</td>\n",
       "    </tr>\n",
       "    <tr>\n",
       "      <th>19</th>\n",
       "      <td>2007.0</td>\n",
       "      <td>7149</td>\n",
       "      <td>2359</td>\n",
       "      <td>24.810686</td>\n",
       "    </tr>\n",
       "    <tr>\n",
       "      <th>20</th>\n",
       "      <td>2008.0</td>\n",
       "      <td>7143</td>\n",
       "      <td>2364</td>\n",
       "      <td>24.865888</td>\n",
       "    </tr>\n",
       "    <tr>\n",
       "      <th>21</th>\n",
       "      <td>2009.0</td>\n",
       "      <td>7441</td>\n",
       "      <td>2281</td>\n",
       "      <td>23.462251</td>\n",
       "    </tr>\n",
       "    <tr>\n",
       "      <th>22</th>\n",
       "      <td>2010.0</td>\n",
       "      <td>7808</td>\n",
       "      <td>2508</td>\n",
       "      <td>24.311749</td>\n",
       "    </tr>\n",
       "    <tr>\n",
       "      <th>23</th>\n",
       "      <td>2011.0</td>\n",
       "      <td>7652</td>\n",
       "      <td>2594</td>\n",
       "      <td>25.317197</td>\n",
       "    </tr>\n",
       "    <tr>\n",
       "      <th>24</th>\n",
       "      <td>2012.0</td>\n",
       "      <td>7473</td>\n",
       "      <td>2646</td>\n",
       "      <td>26.148829</td>\n",
       "    </tr>\n",
       "    <tr>\n",
       "      <th>25</th>\n",
       "      <td>2013.0</td>\n",
       "      <td>7804</td>\n",
       "      <td>2725</td>\n",
       "      <td>25.880900</td>\n",
       "    </tr>\n",
       "    <tr>\n",
       "      <th>26</th>\n",
       "      <td>2014.0</td>\n",
       "      <td>7739</td>\n",
       "      <td>2902</td>\n",
       "      <td>27.271873</td>\n",
       "    </tr>\n",
       "    <tr>\n",
       "      <th>27</th>\n",
       "      <td>2015.0</td>\n",
       "      <td>7616</td>\n",
       "      <td>3128</td>\n",
       "      <td>29.113924</td>\n",
       "    </tr>\n",
       "    <tr>\n",
       "      <th>28</th>\n",
       "      <td>2016.0</td>\n",
       "      <td>7888</td>\n",
       "      <td>3605</td>\n",
       "      <td>31.366919</td>\n",
       "    </tr>\n",
       "    <tr>\n",
       "      <th>29</th>\n",
       "      <td>2017.0</td>\n",
       "      <td>7856</td>\n",
       "      <td>3819</td>\n",
       "      <td>32.710921</td>\n",
       "    </tr>\n",
       "    <tr>\n",
       "      <th>30</th>\n",
       "      <td>2018.0</td>\n",
       "      <td>7919</td>\n",
       "      <td>4072</td>\n",
       "      <td>33.958802</td>\n",
       "    </tr>\n",
       "    <tr>\n",
       "      <th>31</th>\n",
       "      <td>2019.0</td>\n",
       "      <td>7728</td>\n",
       "      <td>4501</td>\n",
       "      <td>36.805953</td>\n",
       "    </tr>\n",
       "    <tr>\n",
       "      <th>32</th>\n",
       "      <td>2020.0</td>\n",
       "      <td>7184</td>\n",
       "      <td>4799</td>\n",
       "      <td>40.048402</td>\n",
       "    </tr>\n",
       "    <tr>\n",
       "      <th>33</th>\n",
       "      <td>2021.0</td>\n",
       "      <td>7256</td>\n",
       "      <td>5558</td>\n",
       "      <td>43.374434</td>\n",
       "    </tr>\n",
       "    <tr>\n",
       "      <th>34</th>\n",
       "      <td>2022.0</td>\n",
       "      <td>7122</td>\n",
       "      <td>5561</td>\n",
       "      <td>43.846093</td>\n",
       "    </tr>\n",
       "    <tr>\n",
       "      <th>35</th>\n",
       "      <td>2023.0</td>\n",
       "      <td>7580</td>\n",
       "      <td>6141</td>\n",
       "      <td>44.756213</td>\n",
       "    </tr>\n",
       "    <tr>\n",
       "      <th>36</th>\n",
       "      <td>2024.0</td>\n",
       "      <td>4502</td>\n",
       "      <td>2682</td>\n",
       "      <td>37.332962</td>\n",
       "    </tr>\n",
       "  </tbody>\n",
       "</table>\n",
       "</div>"
      ],
      "text/plain": [
       "    LISTYR  alcohol_diag_no  alcohol_diag_yes  alcohol_diag_pct\n",
       "0   1988.0             1548               126          7.526882\n",
       "1   1989.0             2016               270         11.811024\n",
       "2   1990.0             2506               464         15.622896\n",
       "3   1991.0             2924               519         15.074063\n",
       "4   1992.0             3240               620         16.062176\n",
       "5   1993.0             3623               751         17.169639\n",
       "6   1994.0             3766              1215         24.392692\n",
       "7   1995.0             4330              1638         27.446381\n",
       "8   1996.0             4750              1877         28.323525\n",
       "9   1997.0             5163              1896         26.859329\n",
       "10  1998.0             5563              2267         28.952746\n",
       "11  1999.0             6315              2404         27.571969\n",
       "12  2000.0             6377              2421         27.517618\n",
       "13  2001.0             6513              2313         26.206662\n",
       "14  2002.0             5839              1958         25.112223\n",
       "15  2003.0             6416              2088         24.553151\n",
       "16  2004.0             6646              2344         26.073415\n",
       "17  2005.0             6776              2468         26.698399\n",
       "18  2006.0             6832              2550         27.179706\n",
       "19  2007.0             7149              2359         24.810686\n",
       "20  2008.0             7143              2364         24.865888\n",
       "21  2009.0             7441              2281         23.462251\n",
       "22  2010.0             7808              2508         24.311749\n",
       "23  2011.0             7652              2594         25.317197\n",
       "24  2012.0             7473              2646         26.148829\n",
       "25  2013.0             7804              2725         25.880900\n",
       "26  2014.0             7739              2902         27.271873\n",
       "27  2015.0             7616              3128         29.113924\n",
       "28  2016.0             7888              3605         31.366919\n",
       "29  2017.0             7856              3819         32.710921\n",
       "30  2018.0             7919              4072         33.958802\n",
       "31  2019.0             7728              4501         36.805953\n",
       "32  2020.0             7184              4799         40.048402\n",
       "33  2021.0             7256              5558         43.374434\n",
       "34  2022.0             7122              5561         43.846093\n",
       "35  2023.0             7580              6141         44.756213\n",
       "36  2024.0             4502              2682         37.332962"
      ]
     },
     "execution_count": 91,
     "metadata": {},
     "output_type": "execute_result"
    }
   ],
   "source": [
    "df_alc_by_listyr"
   ]
  },
  {
   "cell_type": "code",
   "execution_count": 92,
   "id": "00a1002c-3dc6-41f9-b746-e3a8411eec4d",
   "metadata": {},
   "outputs": [],
   "source": [
    "df_alc_by_listyr.to_clipboard(index=False)"
   ]
  },
  {
   "cell_type": "code",
   "execution_count": 93,
   "id": "dc2621cf-2927-40e4-990a-023dbeceec8b",
   "metadata": {},
   "outputs": [
    {
     "name": "stdout",
     "output_type": "stream",
     "text": [
      "6141\n",
      "7580\n"
     ]
    }
   ],
   "source": [
    "# spot-checking 2023 numbers from source\n",
    "test_23 = df_uniq_cands[df_uniq_cands['LISTYR'] == 2023]\n",
    "test_23_has_alc = test_23[test_23['alcohol_diagnosis']]\n",
    "test_23_no_alc = test_23[~test_23['alcohol_diagnosis']]\n",
    "print(len(test_23_has_alc))\n",
    "print(len(test_23_no_alc))"
   ]
  }
 ],
 "metadata": {
  "kernelspec": {
   "display_name": "Python 3 (ipykernel)",
   "language": "python",
   "name": "python3"
  },
  "language_info": {
   "codemirror_mode": {
    "name": "ipython",
    "version": 3
   },
   "file_extension": ".py",
   "mimetype": "text/x-python",
   "name": "python",
   "nbconvert_exporter": "python",
   "pygments_lexer": "ipython3",
   "version": "3.12.4"
  }
 },
 "nbformat": 4,
 "nbformat_minor": 5
}
